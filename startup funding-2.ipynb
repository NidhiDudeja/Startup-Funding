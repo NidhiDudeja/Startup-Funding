{
 "cells": [
  {
   "cell_type": "code",
   "execution_count": 152,
   "metadata": {},
   "outputs": [
    {
     "name": "stdout",
     "output_type": "stream",
     "text": [
      "NCR\n"
     ]
    },
    {
     "data": {
      "image/png": "[encoded data removed]",
      "text/plain": [
       "<Figure size 432x288 with 1 Axes>"
      ]
     },
     "metadata": {
      "needs_background": "light"
     },
     "output_type": "display_data"
    }
   ],
   "source": [
    "# Question 1\n",
    "import pandas as pd\n",
    "import matplotlib.pyplot as plt\n",
    "df=pd.read_csv(r\"C:\\Users\\Nehad\\OneDrive\\Desktop\\startup_funding.csv\",encoding=\"unicode_escape\")\n",
    "df.dropna(subset=[\"CityLocation\"],inplace=True)\n",
    "df[\"CityLocation\"].replace(\"Delhi\",\"New Delhi\",inplace=True)\n",
    "df[\"CityLocation\"]=df[\"CityLocation\"].str.title()\n",
    "d={}\n",
    "for i in df[\"CityLocation\"]:\n",
    "    if i==\"Bangalore\":\n",
    "        d[i]=d.get(i,0)+1\n",
    "    elif i==\"Mumbai\":\n",
    "        d[i]=d.get(i,0)+1\n",
    "    elif i==\"New Delhi\"or i==\"Gurgaon\" or i==\"Noida\" :\n",
    "        d[\"NCR\"]=d.get(\"NCR\",0)+1\n",
    "    if \",\" in i:\n",
    "        li=i.split(\"/\")\n",
    "        for j in li:\n",
    "            j=j.strip()\n",
    "            if j==\"Bangalore\":\n",
    "                d[j]=d.get(i,0)+1\n",
    "            if j==\"Mumbai\":\n",
    "                d[j]=d.get(i,0)+1\n",
    "            if j==\"New Delhi\" or j==\"Gurgaon\" or j==\"Noida\":\n",
    "                d[\"NCR\"]=d.get(\"NCR\",0)+1\n",
    "                \n",
    "   \n",
    "dictionary=dict(sorted(d.items(),key=lambda i:i[1],reverse=True))\n",
    "answer=max(dictionary,key=dictionary.get)\n",
    "print(answer)\n",
    "plt.bar(dictionary.keys(),dictionary.values())\n",
    "plt.xlabel(\"City Name\")\n",
    "plt.ylabel(\"Number of funding\")\n",
    "plt.show()"
   ]
  },
  {
   "cell_type": "markdown",
   "metadata": {},
   "source": [
    "#### To get the city(preferred choices are Bangalore,New Delhi and NCR) where the number of fundings are maximum, we will follow the following steps\n",
    "1)Importing the required libraries which are Numpy,Pandas and matplotlib\n",
    "2)Cleaning the data in which I removed rows with missing citylocation,replaced \"Delhi\" with \"New Delhi\" using .replace function \n",
    "and capitilized the values of column with name \"CityLocation\" using.title function\n",
    "3)Creating a dictionary with keys as city location and values as the number of times funding were there in these cities.Here we have taken a special care of the cases where multiple location are there in single cell(used split and strip function).\n",
    "4)Sorting the dictionary in descending order and printing the citylocation with max value\n",
    "5)Using the .plt.bar function to create the bar graph between the keys of dictionary(\"Cityname\") and values of dictionary(\"Number of funding\")\n",
    "6)using the plt.xlabel and ylabel function for labelling the graph and finally plotting it\n",
    "#### Output-NCR turns out to be the recquired city where maximum number of funding are happening"
   ]
  },
  {
   "cell_type": "code",
   "execution_count": 153,
   "metadata": {},
   "outputs": [
    {
     "name": "stdout",
     "output_type": "stream",
     "text": [
      "Sequoia Capital\n",
      "Accel Partners\n",
      "Kalaari Capital\n",
      "SAIF Partners\n",
      "Indian Angel Network\n"
     ]
    }
   ],
   "source": [
    "#Question-2\n",
    "import pandas as pd\n",
    "import numpy as np\n",
    "df=pd.read_csv(r\"C:\\Users\\Nehad\\OneDrive\\Desktop\\startup_funding.csv\",encoding=\"unicode_escape\")\n",
    "df['InvestorsName'].dropna(inplace=True)\n",
    "def createDictionary(x):\n",
    "    dictionary={}\n",
    "    for i in x:\n",
    "        if ',' not in i:\n",
    "            if i in dictionary:\n",
    "                dictionary[i]=dictionary.get(i)+1\n",
    "            else:\n",
    "                dictionary[i]=1\n",
    "        else:\n",
    "            string=i.strip().split(',')\n",
    "            for j in string:\n",
    "                if j.strip() in dictionary:\n",
    "                    dictionary[j.strip()]=dictionary.get(j.strip())+1\n",
    "                else:\n",
    "                    dictionary[j.strip()]=1\n",
    "    return dictionary\n",
    "\n",
    "dictionary=createDictionary(df['InvestorsName'])\n",
    "\n",
    "sorted_d = dict( sorted(dictionary.items(), key=lambda i:i[1],reverse=True))\n",
    "sorted_d\n",
    "count=0\n",
    "for i in sorted_d:\n",
    "    if count==5:\n",
    "        break\n",
    "    print(i)\n",
    "    count=count+1\n",
    " \n",
    "\n"
   ]
  },
  {
   "cell_type": "markdown",
   "metadata": {},
   "source": [
    "#### To get the list of top 5 investors who have invested maximum number of times, we will proceed with the following steps\n",
    "1)Importing the necessary libraries which are numpy and Pandas.\n",
    "2)loading the file in a variable df using.read_csv function of pandas.\n",
    "3)removing the NaN values from column \"InvestorsName\".\n",
    "4)Creating a dictionary d where keys are Inverstor name and values are the number of times the respective investor invested\n",
    "5)To create this dictionary,we splitted each value in column \"InvestorName\"with delimiter \",\" incase it exists.We did so to cater to the fact that each value in this column can have multiple investors name.\n",
    "6)Once the dictionary is created,We now have the count of every investor (By count ,we mean the number of times the investor invested)\n",
    "7)sorting the dictionary in descending order according to the values using the sorted and lambda function.\n",
    "8)Printing the first 5 keys of the sorted dictionary\n",
    "#### Output shows that Sequoia Capital invested maximum number of times followed by Accel Partners then Kalaari Capital.....\n",
    "The list is as follows\n",
    "1)Sequoia Capital\n",
    "2)Accel Partners\n",
    "3)Kalaari Capital\n",
    "4)SAIF Partners\n",
    "5)Indian Angel Network"
   ]
  },
  {
   "cell_type": "code",
   "execution_count": 154,
   "metadata": {},
   "outputs": [
    {
     "name": "stdout",
     "output_type": "stream",
     "text": [
      "Sequoia Capital\n",
      "Accel Partners\n",
      "Kalaari Capital\n",
      "Indian Angel Network\n",
      "Blume Ventures\n"
     ]
    }
   ],
   "source": [
    "#question-3\n",
    "import pandas as pd\n",
    "df=pd.read_csv(r\"C:\\Users\\Nehad\\OneDrive\\Desktop\\startup_funding.csv\",encoding=\"unicode_escape\")\n",
    "df.dropna(subset=[\"InvestorsName\",\"StartupName\"],inplace=True)\n",
    "df[\"StartupName\"].replace(\"Flipkart.com\",\"Flipkart\",inplace = True)\n",
    "df[\"StartupName\"].replace(\"Ola Cabs\",\"Ola\",inplace = True)\n",
    "df[\"StartupName\"].replace(\"Olacabs\",\"Ola\",inplace = True)\n",
    "df[\"StartupName\"].replace(\"Oyorooms\",\"Oyo\",inplace = True)\n",
    "df[\"StartupName\"].replace(\"OyoRooms\",\"Oyo\",inplace = True)\n",
    "df[\"StartupName\"].replace(\"OYO Rooms\",\"Oyo\",inplace = True)\n",
    "df[\"StartupName\"].replace(\"Oyo Rooms\",\"Oyo\",inplace = True)\n",
    "df[\"StartupName\"].replace(\"Paytm Marketplace\",\"Paytm\",inplace = True)\n",
    "#creating a dictionary where the keys will be investors name and values will be a set of startups in which the respctive investor invested\n",
    "d={}\n",
    "for i in df.index:\n",
    "    investor=df[\"InvestorsName\"][i].strip()\n",
    "    if \",\" in investor:\n",
    "        l=investor.split(\",\")\n",
    "        for ele in l:\n",
    "            ele=ele.strip()\n",
    "            if ele in d:\n",
    "                d[ele].add(df[\"StartupName\"][i].strip())\n",
    "            else:\n",
    "                d[ele]=set()\n",
    "                d[ele].add(df[\"StartupName\"][i].strip())\n",
    "    else:\n",
    "        a=investor.strip()\n",
    "        if a in d:\n",
    "            d[a].add(df[\"StartupName\"][i].strip())\n",
    "        else:\n",
    "            d[a]=set()\n",
    "            d[a].add(df[\"StartupName\"][i].strip())\n",
    "d1={}\n",
    "for i in d:\n",
    "    if i==\"\":\n",
    "        continue\n",
    "    d1[i]=len(d[i])\n",
    "final_dict=sorted(d1.items(),key=lambda i:i[1],reverse=True)[0:5]\n",
    "for i in final_dict:\n",
    "    print(i[0])\n",
    "\n"
   ]
  },
  {
   "cell_type": "markdown",
   "metadata": {},
   "source": [
    "####  To find the top 5 investors who have invested in different number of startups,we will proceed with the following steps\n",
    "1)Importing the necessary libararies which are numpy and pandas\n",
    "2)loading the file in a variable df using.read_csv function of pandas.\n",
    "3)removing the NaN values from column \"InvestorsName\" and \"StartupName\".\n",
    "4)Cleaning the data by correcting the names of important startups in the dataset using .replace function\n",
    "5)creating a dictionary where the keys will be investors name and values will be a set of startups in which the respctive investor invested(set is created to ensure that only unique names are added)\n",
    "6)creating another dictionary with the help of previous ones where the keys in new dict are same as previous ones and the values are the length of the set in the previous dict\n",
    "7)Sorting the latest dictionary in descending order and printing the first 5 values\n",
    "#### Output is as follows where Sequoia Capital invested maximum number of times in different startups\n",
    "The list is as follows\n",
    "1)Sequoia Capital\n",
    "2)Accel Partners\n",
    "3)Kalaari Capital\n",
    "4)Indian Angel Network\n",
    "5)Blume Ventures"
   ]
  },
  {
   "cell_type": "code",
   "execution_count": 155,
   "metadata": {},
   "outputs": [
    {
     "name": "stdout",
     "output_type": "stream",
     "text": [
      "Indian Angel Network\n",
      "Rajan Anandan\n",
      "LetsVenture\n",
      "Anupam Mittal\n",
      "Kunal Shah\n"
     ]
    }
   ],
   "source": [
    "# Question-4\n",
    "import pandas as pd\n",
    "df=pd.read_csv(r\"C:\\Users\\Nehad\\OneDrive\\Desktop\\startup_funding.csv\",encoding=\"unicode_escape\")\n",
    "df.dropna(subset=[\"InvestorsName\",\"StartupName\"],inplace=True)\n",
    "df[\"StartupName\"].replace(\"Flipkart.com\",\"Flipkart\",inplace = True)\n",
    "df[\"StartupName\"].replace(\"Ola Cabs\",\"Ola\",inplace = True)\n",
    "df[\"StartupName\"].replace(\"Olacabs\",\"Ola\",inplace = True)\n",
    "df[\"StartupName\"].replace(\"Oyorooms\",\"Oyo\",inplace = True)\n",
    "df[\"StartupName\"].replace(\"OyoRooms\",\"Oyo\",inplace = True)\n",
    "df[\"StartupName\"].replace(\"OYO Rooms\",\"Oyo\",inplace = True)\n",
    "df[\"StartupName\"].replace(\"Oyo Rooms\",\"Oyo\",inplace = True)\n",
    "df[\"StartupName\"].replace(\"Paytm Marketplace\",\"Paytm\",inplace = True)\n",
    "df[\"InvestmentType\"].replace(\"SeedFunding\",\"Seed Funding\",inplace=True)\n",
    "df[\"InvestmentType\"].replace(\"PrivateEquity\",\"Private Equity\",inplace=True)\n",
    "df[\"InvestmentType\"].replace(\"Crowd funding\",\"Crowd Funding\",inplace=True)\n",
    "d={}\n",
    "for i in df.index:\n",
    "    investor=df[\"InvestorsName\"][i].strip()\n",
    "    if (df[\"InvestmentType\"][i]==\"Seed Funding\") or (df[\"InvestmentType\"][i]==\"Crowd Funding\"):\n",
    "        if \",\" in investor:\n",
    "            l=investor.split(\",\")\n",
    "            for ele in l:\n",
    "                ele=ele.strip()\n",
    "                if ele in d:\n",
    "                    d[ele].add(df[\"StartupName\"][i].strip())\n",
    "                else:\n",
    "                    d[ele]=set()\n",
    "                    d[ele].add(df[\"StartupName\"][i].strip())\n",
    "        else:\n",
    "            a=investor.strip()\n",
    "            if a in d:\n",
    "                d[a].add(df[\"StartupName\"][i].strip())\n",
    "            else:\n",
    "                d[a]=set()\n",
    "                d[a].add(df[\"StartupName\"][i].strip())\n",
    "d1={}\n",
    "for i in d:\n",
    "    if i==\"\":\n",
    "        continue\n",
    "    d1[i]=len(d[i])\n",
    "final_dict=sorted(d1.items(),key=lambda i:i[1],reverse=True)\n",
    "count=0\n",
    "i=0\n",
    "while count<5:\n",
    "    if final_dict[i][0]!=\"Undisclosed Investors\"and final_dict[i][0]!=\"Undisclosed investors\":\n",
    "        print(final_dict[i][0])\n",
    "        count=count+1\n",
    "    i=i+1\n",
    "    \n",
    "\n",
    "\n"
   ]
  },
  {
   "cell_type": "markdown",
   "metadata": {},
   "source": [
    "#### to find the top 5 investors who have invested in a different number of startups and their investment type is Crowdfunding or Seed Funding, we will proceed with the following steps\n",
    "1)Importing the necessary libararies which are numpy and pandas\n",
    "2)loading the file in a variable df using.read_csv function of pandas.\n",
    "3)removing the NaN values from column \"InvestorsName\" and \"StartupName\".\n",
    "4)Cleaning the data by correcting the names of important startups and the spelling of different investment types in the dataset using .replace function\n",
    "5)creating a dictionary where the keys will be investors name and values will be a set of startups in which the respctive investor invested(set is created to ensure that only unique names are added).Here we will keep a check that only those investors will be included whose investment type is Crowdfunding or Seedfunding\n",
    "6)creating another dictionary with the help of previous ones where the keys in new dict are same as previous ones and the values are the length of the set in the previous dict\n",
    "7)Sorting the latest dictionary in descending order and printing the first 5 values.Here we will keep a check that Undisclosed Investors should not be considered in our list\n",
    "#### Output is as follows-\n",
    "1)Indian Angel Network\n",
    "2)Rajan Anandan\n",
    "3)LetsVenture\n",
    "4)Anupam Mittal\n",
    "5)Kunal Shah"
   ]
  },
  {
   "cell_type": "code",
   "execution_count": 156,
   "metadata": {},
   "outputs": [
    {
     "name": "stdout",
     "output_type": "stream",
     "text": [
      "Sequoia Capital\n",
      "Accel Partners\n",
      "Kalaari Capital\n",
      "Blume Ventures\n",
      "SAIF Partners\n"
     ]
    }
   ],
   "source": [
    "#Question-5\n",
    "import pandas as pd\n",
    "df=pd.read_csv(r\"C:\\Users\\Nehad\\OneDrive\\Desktop\\startup_funding.csv\",encoding=\"unicode_escape\")\n",
    "df.dropna(subset=[\"InvestorsName\",\"StartupName\"],inplace=True)\n",
    "df[\"StartupName\"].replace(\"Flipkart.com\",\"Flipkart\",inplace = True)\n",
    "df[\"StartupName\"].replace(\"Ola Cabs\",\"Ola\",inplace = True)\n",
    "df[\"StartupName\"].replace(\"Olacabs\",\"Ola\",inplace = True)\n",
    "df[\"StartupName\"].replace(\"Oyorooms\",\"Oyo\",inplace = True)\n",
    "df[\"StartupName\"].replace(\"OyoRooms\",\"Oyo\",inplace = True)\n",
    "df[\"StartupName\"].replace(\"OYO Rooms\",\"Oyo\",inplace = True)\n",
    "df[\"StartupName\"].replace(\"Oyo Rooms\",\"Oyo\",inplace = True)\n",
    "df[\"StartupName\"].replace(\"Paytm Marketplace\",\"Paytm\",inplace = True)\n",
    "df[\"InvestmentType\"].replace(\"SeedFunding\",\"Seed Funding\",inplace=True)\n",
    "df[\"InvestmentType\"].replace(\"PrivateEquity\",\"Private Equity\",inplace=True)\n",
    "df[\"InvestmentType\"].replace(\"Crowd funding\",\"Crowd Funding\",inplace=True)\n",
    "d={}\n",
    "for i in df.index:\n",
    "    investor=df[\"InvestorsName\"][i].strip()\n",
    "    if (df[\"InvestmentType\"][i]==\"Private Equity\"):\n",
    "        if \",\" in investor:\n",
    "            l=investor.split(\",\")\n",
    "            for ele in l:\n",
    "                ele=ele.strip()\n",
    "                if ele in d:\n",
    "                    d[ele].add(df[\"StartupName\"][i].strip())\n",
    "                else:\n",
    "                    d[ele]=set()\n",
    "                    d[ele].add(df[\"StartupName\"][i].strip())\n",
    "        else:\n",
    "            a=investor.strip()\n",
    "            if a in d:\n",
    "                d[a].add(df[\"StartupName\"][i].strip())\n",
    "            else:\n",
    "                d[a]=set()\n",
    "                d[a].add(df[\"StartupName\"][i].strip())\n",
    "d1={}\n",
    "for i in d:\n",
    "    if i==\"\":\n",
    "        continue\n",
    "    d1[i]=len(d[i])\n",
    "final_dict=sorted(d1.items(),key=lambda i:i[1],reverse=True)\n",
    "count=0\n",
    "i=0\n",
    "while count<5:\n",
    "    if final_dict[i][0]!=\"Undisclosed Investors\"and final_dict[i][0]!=\"Undisclosed investors\":\n",
    "        print(final_dict[i][0])\n",
    "        count=count+1\n",
    "    i=i+1\n",
    "\n",
    "    \n"
   ]
  },
  {
   "cell_type": "markdown",
   "metadata": {},
   "source": [
    "#### To find the top 5 investors who have invested in a different number of startups and their investment type is Private Equity, we will proceed with the following steps\n",
    "1)Importing the necessary libararies which are numpy and pandas\n",
    "2)loading the file in a variable df using.read_csv function of pandas.\n",
    "3)removing the NaN values from column \"InvestorsName\" and \"StartupName\".\n",
    "4)Cleaning the data by correcting the names of important startups and the spelling of different investment types in the dataset using .replace function\n",
    "5)creating a dictionary where the keys will be investors name and values will be a set of startups in which the respctive investor invested(set is created to ensure that only unique names are added).Here we will keep a check that only those investors will be included whose investment type is Private Equity\n",
    "6)creating another dictionary with the help of previous ones where the keys in new dict are same as previous ones and the values are the length of the set in the previous dict\n",
    "7)Sorting the latest dictionary in descending order and printing the first 5 values.Here we will keep a check that Undisclosed Investors should not be considered in our list\n",
    "#### Output is as follows\n",
    "1)Sequoia Capital\n",
    "2)Accel Partners\n",
    "3)Kalaari Capital\n",
    "4)Blume Ventures\n",
    "5)SAIF Partners"
   ]
  }
 ],
 "metadata": {
  "kernelspec": {
   "display_name": "Python 3",
   "language": "python",
   "name": "python3"
  },
  "language_info": {
   "codemirror_mode": {
    "name": "ipython",
    "version": 3
   },
   "file_extension": ".py",
   "mimetype": "text/x-python",
   "name": "python",
   "nbconvert_exporter": "python",
   "pygments_lexer": "ipython3",
   "version": "3.7.4"
  }
 },
 "nbformat": 4,
 "nbformat_minor": 2
}
